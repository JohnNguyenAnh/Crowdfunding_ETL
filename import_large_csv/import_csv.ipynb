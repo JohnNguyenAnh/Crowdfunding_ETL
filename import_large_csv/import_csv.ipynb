{
 "cells": [
  {
   "cell_type": "code",
   "execution_count": 3,
   "metadata": {},
   "outputs": [],
   "source": [
    "import psycopg2\n",
    "import csv\n",
    "import datetime"
   ]
  },
  {
   "cell_type": "markdown",
   "metadata": {},
   "source": [
    "Import campaign.csv\n"
   ]
  },
  {
   "cell_type": "code",
   "execution_count": 7,
   "metadata": {},
   "outputs": [],
   "source": [
    "conn = psycopg2.connect(\n",
    "    dbname=\"crowdfunding_db\", \n",
    "    user=\"postgres\", \n",
    "    password=\"postgres\", \n",
    "    host=\"127.0.0.1\"\n",
    ")\n",
    "cur = conn.cursor()\n",
    "\n",
    "try:\n",
    "    with open('C:/Users/johnn/OneDrive/Desktop/ETL projecr/Crowdfunding_ETL/Resources/campaign.csv','r') as f:\n",
    "        reader = csv.reader(f)\n",
    "        next(reader)  # Skip the header row\n",
    "        for row in reader:\n",
    "            cur.execute(\"\"\"\n",
    "                INSERT INTO campaign (cf_id, contact_id, company_name, description, goal, pledged, outcome, backers_count, country, currency, launch_date, end_date, staff_pick, spotlight, category_id, subcategory_id)\n",
    "                VALUES (%s, %s,%s, %s,%s, %s,%s, %s,%s, %s,%s, %s,%s, %s,%s, %s)\n",
    "                ON CONFLICT (cf_id) DO NOTHING;\n",
    "                \"\"\", row)\n",
    "    conn.commit()  # Commit the transaction\n",
    "except psycopg2.Error as e:\n",
    "    print(\"An error occurred: \", e)\n",
    "    conn.rollback()  # Rollback the transaction on error\n",
    "finally:\n",
    "    cur.close()\n",
    "    conn.close()"
   ]
  },
  {
   "cell_type": "code",
   "execution_count": null,
   "metadata": {},
   "outputs": [],
   "source": []
  },
  {
   "cell_type": "code",
   "execution_count": null,
   "metadata": {},
   "outputs": [],
   "source": []
  }
 ],
 "metadata": {
  "kernelspec": {
   "display_name": "base",
   "language": "python",
   "name": "python3"
  },
  "language_info": {
   "codemirror_mode": {
    "name": "ipython",
    "version": 3
   },
   "file_extension": ".py",
   "mimetype": "text/x-python",
   "name": "python",
   "nbconvert_exporter": "python",
   "pygments_lexer": "ipython3",
   "version": "3.11.5"
  }
 },
 "nbformat": 4,
 "nbformat_minor": 2
}
